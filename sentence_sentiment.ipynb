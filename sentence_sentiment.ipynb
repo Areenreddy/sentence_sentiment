{
  "nbformat": 4,
  "nbformat_minor": 0,
  "metadata": {
    "colab": {
      "provenance": []
    },
    "kernelspec": {
      "name": "python3",
      "display_name": "Python 3"
    },
    "language_info": {
      "name": "python"
    }
  },
  "cells": [
    {
      "cell_type": "code",
      "execution_count": null,
      "metadata": {
        "id": "j2VpWbWywbpQ"
      },
      "outputs": [],
      "source": [
        "!pip install python-docx"
      ]
    },
    {
      "cell_type": "code",
      "source": [
        "from transformers import pipeline\n",
        "sentiment_analysis = pipeline(\"sentiment-analysis\",model=\"siebert/sentiment-roberta-large-english\")"
      ],
      "metadata": {
        "id": "7_th901twmWH"
      },
      "execution_count": null,
      "outputs": []
    },
    {
      "cell_type": "code",
      "source": [
        "!unzip /content/dataset.zip"
      ],
      "metadata": {
        "id": "-GWQq8UwwvyQ"
      },
      "execution_count": null,
      "outputs": []
    },
    {
      "cell_type": "code",
      "source": [
        "import os\n",
        "os.mkdir(\"positive_sentences\")\n",
        "os.mkdir(\"negative_sentenses\")\n",
        "path=\"/content/ceo_messages\"\n",
        "for i in os.listdir(path):\n",
        "  path1=os.path.join(path,i)\n",
        "  doc = docx.Document(path1)\n",
        "  lines=[]\n",
        "  positive_lines=[]\n",
        "  negative_lines=[]\n",
        "  for paragraph in doc.paragraphs:\n",
        "    for line in paragraph.text.splitlines():\n",
        "      lines.append(line)\n",
        "\n",
        "  for line in lines:\n",
        "    words=line.split(\",\")\n",
        "    for word in words:\n",
        "      result=sentiment_analysis(word)\n",
        "      if result[0]['label']=='NEGATIVE':\n",
        "        negative_lines.append(word)\n",
        "      if result[0]['label']=='POSITIVE':\n",
        "        positive_lines.append(word)\n",
        "\n",
        "  i=i.split(\".docx\")[0]\n",
        "  i=i+'.txt'\n",
        "  path2=os.path.join(\"positive_sentences\",i)\n",
        "  path3=os.path.join(\"negative_sentenses\",i)\n",
        "  os.mknod(path2)\n",
        "  with open(path2,'w') as f:\n",
        "    for i in positive_lines:\n",
        "      f.write(f\"{i}'\\n'\")\n",
        "  f.close()\n",
        "\n",
        "  os.mknod(path3)\n",
        "  with open(path3,'w') as f:\n",
        "    for i in negative_lines:\n",
        "      f.write(f\"{i}'\\n'\")\n",
        "  f.close()\n",
        "\n",
        ""
      ],
      "metadata": {
        "id": "RubN0Nf1w5zV"
      },
      "execution_count": null,
      "outputs": []
    },
    {
      "cell_type": "code",
      "source": [
        "path1=\"/content/negative_sentenses\"\n",
        "path2=\"/content/ceo_messages\"\n",
        "\n",
        "for i in os.listdir(path1):\n",
        "  i=i.strip(\".txt\")[0]\n",
        "  for j in os.listdir(path2):\n",
        "    k=j.strip('.docx')[0]\n",
        "    if i==k:\n",
        "      os.remove(os.path.join(path2,j))"
      ],
      "metadata": {
        "id": "adVMuwFgxA0m"
      },
      "execution_count": null,
      "outputs": []
    }
  ]
}